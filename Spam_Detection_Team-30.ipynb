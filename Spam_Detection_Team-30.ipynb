{
  "nbformat": 4,
  "nbformat_minor": 0,
  "metadata": {
    "colab": {
      "provenance": [],
      "authorship_tag": "ABX9TyO66L3Gf7lJ1rTyazvTrWNj",
      "include_colab_link": true
    },
    "kernelspec": {
      "name": "python3",
      "display_name": "Python 3"
    },
    "language_info": {
      "name": "python"
    }
  },
  "cells": [
    {
      "cell_type": "markdown",
      "metadata": {
        "id": "view-in-github",
        "colab_type": "text"
      },
      "source": [
        "<a href=\"https://colab.research.google.com/github/SrijaKandese21uari200/SPAM_DETECTION_NLP_TEAM-30/blob/main/Spam_Detection_Team-30.ipynb\" target=\"_parent\"><img src=\"https://colab.research.google.com/assets/colab-badge.svg\" alt=\"Open In Colab\"/></a>"
      ]
    },
    {
      "cell_type": "markdown",
      "source": [
        "**NECESSARY LIBRARIES**"
      ],
      "metadata": {
        "id": "JyiHqvSpVtmp"
      }
    },
    {
      "cell_type": "code",
      "execution_count": 29,
      "metadata": {
        "id": "fjLd1-UlVkX8"
      },
      "outputs": [],
      "source": [
        "import pandas as pd\n",
        "from sklearn.feature_extraction.text import CountVectorizer\n",
        "from sklearn.model_selection import train_test_split\n",
        "from sklearn.naive_bayes import MultinomialNB\n",
        "from sklearn.metrics import accuracy_score, confusion_matrix, classification_report\n",
        "import requests\n",
        "from io import BytesIO\n",
        "import zipfile\n"
      ]
    },
    {
      "cell_type": "markdown",
      "source": [
        "**DATASET( WE HAVE SELECTED THIS WITH THE HELP OF CHAT GPT)**"
      ],
      "metadata": {
        "id": "GfCPUwqNWCUp"
      }
    },
    {
      "cell_type": "code",
      "source": [
        "url = \"https://archive.ics.uci.edu/ml/machine-learning-databases/00228/smsspamcollection.zip\"\n",
        "r = requests.get(url)\n",
        "with zipfile.ZipFile(BytesIO(r.content), 'r') as z:\n",
        "    with z.open('SMSSpamCollection') as f:\n",
        "        df = pd.read_csv(f, sep='\\t', names=['label', 'message'])\n",
        "\n"
      ],
      "metadata": {
        "id": "sH_Sm-t9VmYn"
      },
      "execution_count": 30,
      "outputs": []
    },
    {
      "cell_type": "markdown",
      "source": [
        "The dataset we selected has collection of emails which are divided into spam and ham(non-spam).It is one of the most reliable data sets, which covers maximum all the cases. To proceed further we labeled **'ham' to 0 and 'spam' to 1**"
      ],
      "metadata": {
        "id": "d1DCXbODWQ0W"
      }
    },
    {
      "cell_type": "code",
      "source": [
        "df['label'] = df['label'].map({'ham': 0, 'spam': 1})\n"
      ],
      "metadata": {
        "id": "EvYUW1ALWdtl"
      },
      "execution_count": 31,
      "outputs": []
    },
    {
      "cell_type": "markdown",
      "source": [
        "We split the dataset into **training and testing sets**"
      ],
      "metadata": {
        "id": "4KP0sH7TWjVQ"
      }
    },
    {
      "cell_type": "code",
      "source": [
        "X_train, X_test, y_train, y_test = train_test_split(df['message'], df['label'], test_size=0.2, random_state=42)\n"
      ],
      "metadata": {
        "id": "P0m2QvUoWj06"
      },
      "execution_count": 32,
      "outputs": []
    },
    {
      "cell_type": "markdown",
      "source": [
        "We used **Count Vectorizer** to convert collections of text documents (both train and test datasets) into matrices of token counts. Here we used **fit_transform ** to load the training data.Further we used **transform** to  transform testing data in the same way as the training data."
      ],
      "metadata": {
        "id": "Csd80_P9Wp9Y"
      }
    },
    {
      "cell_type": "code",
      "source": [
        "Vectorizer = CountVectorizer()\n",
        "X_train = Vectorizer.fit_transform(X_train)\n",
        "X_test = Vectorizer.transform(X_test)\n",
        "\n"
      ],
      "metadata": {
        "id": "zKHp8O4JXQ8U"
      },
      "execution_count": 33,
      "outputs": []
    },
    {
      "cell_type": "markdown",
      "source": [
        "**WE USED NAIVE BAYES CLASSIFIER**"
      ],
      "metadata": {
        "id": "Tgw-S4XoWxqh"
      }
    },
    {
      "cell_type": "code",
      "source": [
        "used_classifier = MultinomialNB()\n",
        "used_classifier.fit(X_train, y_train)\n"
      ],
      "metadata": {
        "colab": {
          "base_uri": "https://localhost:8080/",
          "height": 74
        },
        "id": "hG0l9FGlWyDb",
        "outputId": "379a2dcc-5d07-4744-a9b1-664c55f00ecd"
      },
      "execution_count": 34,
      "outputs": [
        {
          "output_type": "execute_result",
          "data": {
            "text/plain": [
              "MultinomialNB()"
            ],
            "text/html": [
              "<style>#sk-container-id-2 {color: black;background-color: white;}#sk-container-id-2 pre{padding: 0;}#sk-container-id-2 div.sk-toggleable {background-color: white;}#sk-container-id-2 label.sk-toggleable__label {cursor: pointer;display: block;width: 100%;margin-bottom: 0;padding: 0.3em;box-sizing: border-box;text-align: center;}#sk-container-id-2 label.sk-toggleable__label-arrow:before {content: \"▸\";float: left;margin-right: 0.25em;color: #696969;}#sk-container-id-2 label.sk-toggleable__label-arrow:hover:before {color: black;}#sk-container-id-2 div.sk-estimator:hover label.sk-toggleable__label-arrow:before {color: black;}#sk-container-id-2 div.sk-toggleable__content {max-height: 0;max-width: 0;overflow: hidden;text-align: left;background-color: #f0f8ff;}#sk-container-id-2 div.sk-toggleable__content pre {margin: 0.2em;color: black;border-radius: 0.25em;background-color: #f0f8ff;}#sk-container-id-2 input.sk-toggleable__control:checked~div.sk-toggleable__content {max-height: 200px;max-width: 100%;overflow: auto;}#sk-container-id-2 input.sk-toggleable__control:checked~label.sk-toggleable__label-arrow:before {content: \"▾\";}#sk-container-id-2 div.sk-estimator input.sk-toggleable__control:checked~label.sk-toggleable__label {background-color: #d4ebff;}#sk-container-id-2 div.sk-label input.sk-toggleable__control:checked~label.sk-toggleable__label {background-color: #d4ebff;}#sk-container-id-2 input.sk-hidden--visually {border: 0;clip: rect(1px 1px 1px 1px);clip: rect(1px, 1px, 1px, 1px);height: 1px;margin: -1px;overflow: hidden;padding: 0;position: absolute;width: 1px;}#sk-container-id-2 div.sk-estimator {font-family: monospace;background-color: #f0f8ff;border: 1px dotted black;border-radius: 0.25em;box-sizing: border-box;margin-bottom: 0.5em;}#sk-container-id-2 div.sk-estimator:hover {background-color: #d4ebff;}#sk-container-id-2 div.sk-parallel-item::after {content: \"\";width: 100%;border-bottom: 1px solid gray;flex-grow: 1;}#sk-container-id-2 div.sk-label:hover label.sk-toggleable__label {background-color: #d4ebff;}#sk-container-id-2 div.sk-serial::before {content: \"\";position: absolute;border-left: 1px solid gray;box-sizing: border-box;top: 0;bottom: 0;left: 50%;z-index: 0;}#sk-container-id-2 div.sk-serial {display: flex;flex-direction: column;align-items: center;background-color: white;padding-right: 0.2em;padding-left: 0.2em;position: relative;}#sk-container-id-2 div.sk-item {position: relative;z-index: 1;}#sk-container-id-2 div.sk-parallel {display: flex;align-items: stretch;justify-content: center;background-color: white;position: relative;}#sk-container-id-2 div.sk-item::before, #sk-container-id-2 div.sk-parallel-item::before {content: \"\";position: absolute;border-left: 1px solid gray;box-sizing: border-box;top: 0;bottom: 0;left: 50%;z-index: -1;}#sk-container-id-2 div.sk-parallel-item {display: flex;flex-direction: column;z-index: 1;position: relative;background-color: white;}#sk-container-id-2 div.sk-parallel-item:first-child::after {align-self: flex-end;width: 50%;}#sk-container-id-2 div.sk-parallel-item:last-child::after {align-self: flex-start;width: 50%;}#sk-container-id-2 div.sk-parallel-item:only-child::after {width: 0;}#sk-container-id-2 div.sk-dashed-wrapped {border: 1px dashed gray;margin: 0 0.4em 0.5em 0.4em;box-sizing: border-box;padding-bottom: 0.4em;background-color: white;}#sk-container-id-2 div.sk-label label {font-family: monospace;font-weight: bold;display: inline-block;line-height: 1.2em;}#sk-container-id-2 div.sk-label-container {text-align: center;}#sk-container-id-2 div.sk-container {/* jupyter's `normalize.less` sets `[hidden] { display: none; }` but bootstrap.min.css set `[hidden] { display: none !important; }` so we also need the `!important` here to be able to override the default hidden behavior on the sphinx rendered scikit-learn.org. See: https://github.com/scikit-learn/scikit-learn/issues/21755 */display: inline-block !important;position: relative;}#sk-container-id-2 div.sk-text-repr-fallback {display: none;}</style><div id=\"sk-container-id-2\" class=\"sk-top-container\"><div class=\"sk-text-repr-fallback\"><pre>MultinomialNB()</pre><b>In a Jupyter environment, please rerun this cell to show the HTML representation or trust the notebook. <br />On GitHub, the HTML representation is unable to render, please try loading this page with nbviewer.org.</b></div><div class=\"sk-container\" hidden><div class=\"sk-item\"><div class=\"sk-estimator sk-toggleable\"><input class=\"sk-toggleable__control sk-hidden--visually\" id=\"sk-estimator-id-2\" type=\"checkbox\" checked><label for=\"sk-estimator-id-2\" class=\"sk-toggleable__label sk-toggleable__label-arrow\">MultinomialNB</label><div class=\"sk-toggleable__content\"><pre>MultinomialNB()</pre></div></div></div></div></div>"
            ]
          },
          "metadata": {},
          "execution_count": 34
        }
      ]
    },
    {
      "cell_type": "code",
      "source": [
        "y_pred = used_classifier.predict(X_test)"
      ],
      "metadata": {
        "id": "8bAurJ32Xoui"
      },
      "execution_count": 35,
      "outputs": []
    },
    {
      "cell_type": "markdown",
      "source": [
        "**PERFORMANCE OF MODEL CONSIDERED**"
      ],
      "metadata": {
        "id": "bOP2X_zwXw1J"
      }
    },
    {
      "cell_type": "code",
      "source": [
        "Accuracy = accuracy_score(y_test, y_pred)\n",
        "confusion_matrix = confusion_matrix(y_test.tolist(), y_pred.tolist())\n",
        "classification_report = classification_report(y_test, y_pred)\n",
        "\n",
        "print(f\"Accuracy: {Accuracy}\")\n",
        "print(f\"Confusion Matrix:\\n{confusion_matrix}\")\n",
        "print(f\"Classification Report:\\n{classification_report}\")\n",
        "\n",
        "#Output"
      ],
      "metadata": {
        "colab": {
          "base_uri": "https://localhost:8080/",
          "height": 0
        },
        "id": "omJqKuXAjHRw",
        "outputId": "21966aa2-5913-4086-e88f-c2fdb8b42a75"
      },
      "execution_count": 36,
      "outputs": [
        {
          "output_type": "stream",
          "name": "stdout",
          "text": [
            "Accuracy: 0.9919282511210762\n",
            "Confusion Matrix:\n",
            "[[966   0]\n",
            " [  9 140]]\n",
            "Classification Report:\n",
            "              precision    recall  f1-score   support\n",
            "\n",
            "           0       0.99      1.00      1.00       966\n",
            "           1       1.00      0.94      0.97       149\n",
            "\n",
            "    accuracy                           0.99      1115\n",
            "   macro avg       1.00      0.97      0.98      1115\n",
            "weighted avg       0.99      0.99      0.99      1115\n",
            "\n"
          ]
        }
      ]
    },
    {
      "cell_type": "markdown",
      "source": [
        "We calculated the performance of our model before taking a test case. The **accuracy is 99.19%**. From the confusion matrix if **does not have false positives**, i.e it does not classify any non-spam message as spam message. Our main goal is to to ensure that no non-spam message is going to spam section, which is true in our model. We have also calculated the classification report."
      ],
      "metadata": {
        "id": "KbxB4Vp7YFXI"
      }
    },
    {
      "cell_type": "markdown",
      "source": [
        "**EXAMPLES**"
      ],
      "metadata": {
        "id": "7lIqmRfDg0DZ"
      }
    },
    {
      "cell_type": "code",
      "source": [
        "# Example 1\n",
        "new_email = [\"Congratulations! You've won a lottery.\"]\n",
        "new_email_transformed = Vectorizer.transform(new_email)\n",
        "prediction = used_classifier.predict(new_email_transformed)\n",
        "\n",
        "print(\"Predictions for new emails:\",prediction)"
      ],
      "metadata": {
        "colab": {
          "base_uri": "https://localhost:8080/",
          "height": 0
        },
        "id": "5XhkF8YEgUpW",
        "outputId": "e28bc676-4327-4927-af37-c7a276566b81"
      },
      "execution_count": 37,
      "outputs": [
        {
          "output_type": "stream",
          "name": "stdout",
          "text": [
            "Predictions for new emails: [1]\n"
          ]
        }
      ]
    },
    {
      "cell_type": "markdown",
      "source": [
        "The above example is of SPAM"
      ],
      "metadata": {
        "id": "yQNmbUgOhKu6"
      }
    },
    {
      "cell_type": "code",
      "source": [
        "# Example 2\n",
        "new_email = [\"Meeting scheduled for tomorrow.\"]\n",
        "new_email_transformed = Vectorizer.transform(new_email)\n",
        "prediction = used_classifier.predict(new_email_transformed)\n",
        "\n",
        "print(\"Predictions for new emails:\",prediction)"
      ],
      "metadata": {
        "colab": {
          "base_uri": "https://localhost:8080/",
          "height": 0
        },
        "id": "i5FLnVVKg5Lq",
        "outputId": "fa2206b8-4c10-475c-d993-9da9b918af7e"
      },
      "execution_count": 38,
      "outputs": [
        {
          "output_type": "stream",
          "name": "stdout",
          "text": [
            "Predictions for new emails: [0]\n"
          ]
        }
      ]
    },
    {
      "cell_type": "markdown",
      "source": [
        "The above example is of NON_SPAM"
      ],
      "metadata": {
        "id": "rv1rAaTWhYNY"
      }
    },
    {
      "cell_type": "code",
      "source": [
        "# Example 3\n",
        "new_email = [\"50% discount on electronic devices!!!!!\"]\n",
        "new_email_transformed = Vectorizer.transform(new_email)\n",
        "prediction = used_classifier.predict(new_email_transformed)\n",
        "\n",
        "print(\"Predictions for new emails:\",prediction)"
      ],
      "metadata": {
        "colab": {
          "base_uri": "https://localhost:8080/",
          "height": 0
        },
        "id": "WZfFeoqbheGy",
        "outputId": "0a49d8e8-d13d-4a35-c70e-e7aae87fdd4c"
      },
      "execution_count": 39,
      "outputs": [
        {
          "output_type": "stream",
          "name": "stdout",
          "text": [
            "Predictions for new emails: [1]\n"
          ]
        }
      ]
    },
    {
      "cell_type": "markdown",
      "source": [
        "The above example is of SPAM"
      ],
      "metadata": {
        "id": "kuVW9Hqzh6Nv"
      }
    },
    {
      "cell_type": "code",
      "source": [
        "# Example 4\n",
        "new_email = [\"Parent-Teachers meet tomorrow,must attend!\"]\n",
        "new_email_transformed = Vectorizer.transform(new_email)\n",
        "prediction = used_classifier.predict(new_email_transformed)\n",
        "\n",
        "print(\"Predictions for new emails:\",prediction)"
      ],
      "metadata": {
        "colab": {
          "base_uri": "https://localhost:8080/",
          "height": 0
        },
        "id": "k5HNGugph3bF",
        "outputId": "f4e4fb17-e5d1-4f04-d8b1-b3fbeb5721bb"
      },
      "execution_count": 40,
      "outputs": [
        {
          "output_type": "stream",
          "name": "stdout",
          "text": [
            "Predictions for new emails: [0]\n"
          ]
        }
      ]
    },
    {
      "cell_type": "markdown",
      "source": [
        "The above example is of NON_SPAM"
      ],
      "metadata": {
        "id": "XIqHCBnLiXks"
      }
    }
  ]
}